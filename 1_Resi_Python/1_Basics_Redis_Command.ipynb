{
 "cells": [
  {
   "cell_type": "code",
   "execution_count": 1,
   "id": "b0808c49-dfb0-46a0-a967-7a5aec9df9a9",
   "metadata": {},
   "outputs": [],
   "source": [
    "import redis"
   ]
  },
  {
   "cell_type": "code",
   "execution_count": 8,
   "id": "718200f9-89e8-48d6-9b27-5f7bf5b1c202",
   "metadata": {},
   "outputs": [],
   "source": [
    "r = redis.Redis(host='redis-15156.c240.us-east-1-3.ec2.cloud.redislabs.com', port=15156, password='liBWWDuDpXcsnXY2DawkFABm7HKIeI4t', decode_responses=True)"
   ]
  },
  {
   "cell_type": "markdown",
   "id": "93beff26-c216-44c0-9945-d482bed22a9d",
   "metadata": {},
   "source": [
    "## Redis Strings -Ste, Get"
   ]
  },
  {
   "cell_type": "markdown",
   "id": "1b949389-89a9-4784-9425-8ed018ce6c19",
   "metadata": {},
   "source": [
    "## Use Shift + Tab for Intellisense"
   ]
  },
  {
   "cell_type": "code",
   "execution_count": 6,
   "id": "cf2e7da5-4733-4d76-b5af-28a3b0500dad",
   "metadata": {},
   "outputs": [
    {
     "data": {
      "text/plain": [
       "True"
      ]
     },
     "execution_count": 6,
     "metadata": {},
     "output_type": "execute_result"
    }
   ],
   "source": [
    "r.set(\"KEY1\",\"VALUE1\")"
   ]
  },
  {
   "cell_type": "code",
   "execution_count": 7,
   "id": "964b5780-3a85-46e6-8c8b-a8c320ba4e2a",
   "metadata": {},
   "outputs": [
    {
     "data": {
      "text/plain": [
       "'VALUE1'"
      ]
     },
     "execution_count": 7,
     "metadata": {},
     "output_type": "execute_result"
    }
   ],
   "source": [
    "r.get(\"KEY1\")"
   ]
  },
  {
   "cell_type": "markdown",
   "id": "f92c0b3c-8982-4ba3-aa4f-6a0d7729d709",
   "metadata": {},
   "source": [
    "# List"
   ]
  },
  {
   "cell_type": "code",
   "execution_count": 9,
   "id": "f09e899b-1676-4546-95ae-e0a302c7afa1",
   "metadata": {},
   "outputs": [
    {
     "data": {
      "text/plain": [
       "True"
      ]
     },
     "execution_count": 9,
     "metadata": {},
     "output_type": "execute_result"
    }
   ],
   "source": [
    "r.ping()"
   ]
  },
  {
   "cell_type": "code",
   "execution_count": 10,
   "id": "87438866-9586-480a-8d58-be93ae411e3a",
   "metadata": {},
   "outputs": [
    {
     "data": {
      "text/plain": [
       "1"
      ]
     },
     "execution_count": 10,
     "metadata": {},
     "output_type": "execute_result"
    }
   ],
   "source": [
    "r.lpush('mylist', 'value_1')"
   ]
  },
  {
   "cell_type": "code",
   "execution_count": 11,
   "id": "19619227-249b-4d25-b84c-36092b9172cd",
   "metadata": {},
   "outputs": [
    {
     "data": {
      "text/plain": [
       "'value_1'"
      ]
     },
     "execution_count": 11,
     "metadata": {},
     "output_type": "execute_result"
    }
   ],
   "source": [
    "r.lindex(name='mylist',index=0)"
   ]
  },
  {
   "cell_type": "code",
   "execution_count": 12,
   "id": "de57270b-9a6f-470f-91d8-0b6a8a61a684",
   "metadata": {},
   "outputs": [
    {
     "data": {
      "text/plain": [
       "['value_1']"
      ]
     },
     "execution_count": 12,
     "metadata": {},
     "output_type": "execute_result"
    }
   ],
   "source": [
    "r.lrange(name='mylist',start=0, end=0)"
   ]
  },
  {
   "cell_type": "code",
   "execution_count": 15,
   "id": "107b0298-deaf-4f5f-983a-a40cb8c79ead",
   "metadata": {},
   "outputs": [
    {
     "data": {
      "text/plain": [
       "['value_1']"
      ]
     },
     "execution_count": 15,
     "metadata": {},
     "output_type": "execute_result"
    }
   ],
   "source": [
    "r.lrange(name='mylist',start=0, end=-1) #returns all values"
   ]
  },
  {
   "cell_type": "code",
   "execution_count": 16,
   "id": "3e92ca23-3629-42f9-bbc3-29890fd136aa",
   "metadata": {},
   "outputs": [
    {
     "data": {
      "text/plain": [
       "2"
      ]
     },
     "execution_count": 16,
     "metadata": {},
     "output_type": "execute_result"
    }
   ],
   "source": [
    "r.lpush('mylist','value_2')"
   ]
  },
  {
   "cell_type": "code",
   "execution_count": 17,
   "id": "79a6c040-2cc3-4d25-b33f-4b49de382c40",
   "metadata": {},
   "outputs": [
    {
     "data": {
      "text/plain": [
       "['value_2', 'value_1']"
      ]
     },
     "execution_count": 17,
     "metadata": {},
     "output_type": "execute_result"
    }
   ],
   "source": [
    "r.lrange(name='mylist',start=0, end=-1) #returns all values"
   ]
  },
  {
   "cell_type": "code",
   "execution_count": 19,
   "id": "0fb6273d-7b64-4a3f-9603-d4ac44aba2dd",
   "metadata": {},
   "outputs": [
    {
     "data": {
      "text/plain": [
       "3"
      ]
     },
     "execution_count": 19,
     "metadata": {},
     "output_type": "execute_result"
    }
   ],
   "source": [
    "r.rpush('mylist','rvalue_1')"
   ]
  },
  {
   "cell_type": "code",
   "execution_count": 21,
   "id": "9a195f79-8c3b-48d5-af37-be8bd24fc025",
   "metadata": {},
   "outputs": [
    {
     "data": {
      "text/plain": [
       "4"
      ]
     },
     "execution_count": 21,
     "metadata": {},
     "output_type": "execute_result"
    }
   ],
   "source": [
    "r.rpush('mylist','rvalue_2')"
   ]
  },
  {
   "cell_type": "code",
   "execution_count": 22,
   "id": "692c088b-df6f-4313-ae81-814e48e847ef",
   "metadata": {},
   "outputs": [
    {
     "data": {
      "text/plain": [
       "['value_2', 'value_1', 'rvalue_1', 'rvalue_2']"
      ]
     },
     "execution_count": 22,
     "metadata": {},
     "output_type": "execute_result"
    }
   ],
   "source": [
    "r.lrange(name='mylist',start=0, end=-1) #returns all values"
   ]
  },
  {
   "cell_type": "code",
   "execution_count": 23,
   "id": "da99d32c-0c49-4ce8-adfa-c205f118b4ab",
   "metadata": {},
   "outputs": [
    {
     "data": {
      "text/plain": [
       "5"
      ]
     },
     "execution_count": 23,
     "metadata": {},
     "output_type": "execute_result"
    }
   ],
   "source": [
    "r.lpush('mylist','value_3')"
   ]
  },
  {
   "cell_type": "code",
   "execution_count": 24,
   "id": "dae4d332-1ba1-4bfa-88de-ad9890d29c78",
   "metadata": {},
   "outputs": [
    {
     "data": {
      "text/plain": [
       "['value_3', 'value_2', 'value_1', 'rvalue_1', 'rvalue_2']"
      ]
     },
     "execution_count": 24,
     "metadata": {},
     "output_type": "execute_result"
    }
   ],
   "source": [
    "r.lrange(name='mylist',start=0, end=-1) #returns all values"
   ]
  },
  {
   "cell_type": "code",
   "execution_count": 25,
   "id": "51e5f42e-3659-42f7-86f7-0618daece454",
   "metadata": {},
   "outputs": [
    {
     "data": {
      "text/plain": [
       "'value_3'"
      ]
     },
     "execution_count": 25,
     "metadata": {},
     "output_type": "execute_result"
    }
   ],
   "source": [
    "r.lpop('mylist')"
   ]
  },
  {
   "cell_type": "code",
   "execution_count": 26,
   "id": "16c0161a-1d6e-4c85-880f-95ce5185feb1",
   "metadata": {},
   "outputs": [
    {
     "data": {
      "text/plain": [
       "['value_2', 'value_1', 'rvalue_1', 'rvalue_2']"
      ]
     },
     "execution_count": 26,
     "metadata": {},
     "output_type": "execute_result"
    }
   ],
   "source": [
    "r.lrange(name='mylist',start=0, end=-1) #returns all values"
   ]
  },
  {
   "cell_type": "code",
   "execution_count": 27,
   "id": "0f06bb20-f7e2-4d30-bebc-1ec4181c3aac",
   "metadata": {},
   "outputs": [
    {
     "data": {
      "text/plain": [
       "'rvalue_2'"
      ]
     },
     "execution_count": 27,
     "metadata": {},
     "output_type": "execute_result"
    }
   ],
   "source": [
    "r.rpop('mylist')"
   ]
  },
  {
   "cell_type": "code",
   "execution_count": 28,
   "id": "534b747d-34fc-49ff-9af8-d65b0062ecec",
   "metadata": {},
   "outputs": [
    {
     "data": {
      "text/plain": [
       "['value_2', 'value_1', 'rvalue_1']"
      ]
     },
     "execution_count": 28,
     "metadata": {},
     "output_type": "execute_result"
    }
   ],
   "source": [
    "r.lrange(name='mylist',start=0, end=-1) #returns all values"
   ]
  },
  {
   "cell_type": "code",
   "execution_count": null,
   "id": "06358066-7d24-4e26-98b2-2f7e86a7b4b3",
   "metadata": {},
   "outputs": [],
   "source": []
  }
 ],
 "metadata": {
  "kernelspec": {
   "display_name": "Python 3 (ipykernel)",
   "language": "python",
   "name": "python3"
  },
  "language_info": {
   "codemirror_mode": {
    "name": "ipython",
    "version": 3
   },
   "file_extension": ".py",
   "mimetype": "text/x-python",
   "name": "python",
   "nbconvert_exporter": "python",
   "pygments_lexer": "ipython3",
   "version": "3.11.5"
  }
 },
 "nbformat": 4,
 "nbformat_minor": 5
}
